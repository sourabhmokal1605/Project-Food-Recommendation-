{
 "cells": [
  {
   "cell_type": "code",
   "execution_count": null,
   "metadata": {},
   "outputs": [],
   "source": [
    "from flask import Flask, request, render_template, redirect, url_for\n",
    "import matplotlib as plt\n",
    "import pandas as pd\n",
    "\n",
    "# Flask constructor \n",
    "app = Flask(__name__) \n",
    "\n",
    "@app.route('/') \n",
    "def home():   \n",
    "    return render_template(\"front_page.html\")\n",
    "@app.route('/about_us')\n",
    "def about_us():\n",
    "    return render_template(\"about_us.html\")\n",
    "@app.route('/Contact_Us')\n",
    "def Contact_Us():\n",
    "    return render_template(\"Contact_Us.html\")\n",
    "@app.route('/front_page')\n",
    "def front_page():\n",
    "    return redirect(url_for('success'))\n",
    "\n",
    "@app.route('/', methods =[\"POST\"]) \n",
    "def welcome(): \n",
    "    dish_name = request.form[\"fname\"]\n",
    "\n",
    "   \n",
    "    df= pd.read_csv('indian_food.csv')\n",
    "    a=df[df['name']==dish_name]['course']\n",
    "\n",
    "    b=a.to_string(index=False)\n",
    "    c=b.replace(\" \", \"\")\n",
    "    x=[]\n",
    "    x.append(c)\n",
    "    y=[]\n",
    "    for i in df['course']:\n",
    "        if i==x[0]:\n",
    "            y.append(df[df['course']==i]['name'])\n",
    "    z=y[0].to_string(index=False)\n",
    "    q=z.replace(\" \", \"\")\n",
    "    answer=q.split(\"\\n\")\n",
    "    return render_template(\"front_page.html\", answer=answer[0:6]) \n",
    "  \n",
    "if __name__=='__main__':\n",
    "    app.run()"
   ]
  },
  {
   "cell_type": "code",
   "execution_count": null,
   "metadata": {},
   "outputs": [],
   "source": []
  },
  {
   "cell_type": "code",
   "execution_count": null,
   "metadata": {},
   "outputs": [],
   "source": []
  }
 ],
 "metadata": {
  "kernelspec": {
   "display_name": "Python 3",
   "language": "python",
   "name": "python3"
  },
  "language_info": {
   "codemirror_mode": {
    "name": "ipython",
    "version": 3
   },
   "file_extension": ".py",
   "mimetype": "text/x-python",
   "name": "python",
   "nbconvert_exporter": "python",
   "pygments_lexer": "ipython3",
   "version": "3.8.5"
  }
 },
 "nbformat": 4,
 "nbformat_minor": 4
}
